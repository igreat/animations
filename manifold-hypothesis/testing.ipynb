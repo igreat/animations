{
 "cells": [
  {
   "cell_type": "code",
   "execution_count": 1,
   "metadata": {},
   "outputs": [],
   "source": [
    "import torch\n",
    "from torch import nn\n",
    "from torch import optim\n",
    "import torch.nn.functional as F\n",
    "import numpy as np\n",
    "import matplotlib.pyplot as plt\n",
    "%matplotlib inline"
   ]
  },
  {
   "cell_type": "code",
   "execution_count": 161,
   "metadata": {},
   "outputs": [
    {
     "name": "stdout",
     "output_type": "stream",
     "text": [
      "[0 1 2 3 4 5 6 7 8 9]\n"
     ]
    }
   ],
   "source": [
    "print(np.arange(10))"
   ]
  },
  {
   "cell_type": "code",
   "execution_count": 162,
   "metadata": {},
   "outputs": [
    {
     "name": "stdout",
     "output_type": "stream",
     "text": [
      "(2, 1000) (2, 1000)\n"
     ]
    },
    {
     "data": {
      "text/plain": [
       "[<matplotlib.lines.Line2D at 0x413164370>]"
      ]
     },
     "execution_count": 162,
     "metadata": {},
     "output_type": "execute_result"
    },
    {
     "data": {
      "image/png": "[encoded data removed]",
      "text/plain": [
       "<Figure size 432x288 with 1 Axes>"
      ]
     },
     "metadata": {
      "needs_background": "light"
     },
     "output_type": "display_data"
    }
   ],
   "source": [
    "import random\n",
    "from numpy import pi as PI\n",
    "import math\n",
    "\n",
    "blue_spiral = []\n",
    "for _ in range(1000):\n",
    "    theta = random.random() * 2 * PI\n",
    "    r = (random.random()) / 2\n",
    "    x = math.cos(theta) * r\n",
    "    y = math.sin(theta) * r\n",
    "    blue_spiral.append([x, y])\n",
    "\n",
    "red_spiral = []\n",
    "for _ in range(1000):\n",
    "    theta = random.random() * 2 * PI\n",
    "    r = (random.random()) / 2 + 0.75\n",
    "    x = math.cos(theta) * r\n",
    "    y = math.sin(theta) * r\n",
    "    red_spiral.append([x, y])\n",
    "\n",
    "blue_spiral = np.array(blue_spiral).T\n",
    "red_spiral = np.array(red_spiral).T\n",
    "\n",
    "print(blue_spiral.shape, red_spiral.shape)\n",
    "plt.plot(*blue_spiral, \"bo\")\n",
    "plt.plot(*red_spiral, \"ro\")"
   ]
  },
  {
   "cell_type": "code",
   "execution_count": 131,
   "metadata": {},
   "outputs": [
    {
     "data": {
      "text/plain": [
       "[<matplotlib.lines.Line2D at 0x2f433c4f0>]"
      ]
     },
     "execution_count": 131,
     "metadata": {},
     "output_type": "execute_result"
    }
   ],
   "source": [
    "t = np.arange(2, 10, 0.0001) * 0.4\n",
    "blue_spiral = np.array([np.cos(t), np.sin(t)]) * t\n",
    "plt.grid()\n",
    "plt.plot(*blue_spiral, \"bo\")\n",
    "\n",
    "red_spiral = np.array([np.cos(t + np.pi), np.sin(t + np.pi)]) * t\n",
    "plt.plot(*red_spiral, \"ro\")"
   ]
  },
  {
   "cell_type": "code",
   "execution_count": 5,
   "metadata": {},
   "outputs": [
    {
     "data": {
      "text/plain": [
       "(2, 800)"
      ]
     },
     "execution_count": 5,
     "metadata": {},
     "output_type": "execute_result"
    }
   ],
   "source": [
    "blue_spiral.shape # (60x2  * 2x2)"
   ]
  },
  {
   "cell_type": "code",
   "execution_count": 132,
   "metadata": {},
   "outputs": [],
   "source": [
    "# preparing data for training\n",
    "labels_blue = np.ones(len(blue_spiral.T)).reshape(-1, 1)\n",
    "labels_red = np.zeros(len(blue_spiral.T)).reshape(-1, 1)\n",
    "\n",
    "blue_spiral_l = np.concatenate((blue_spiral.T, labels_blue), axis=1)\n",
    "red_spiral_l = np.concatenate((red_spiral.T, labels_red), axis=1)\n",
    "\n",
    "data = np.concatenate((blue_spiral_l, red_spiral_l), axis=0)\n",
    "data = torch.tensor(data, dtype=torch.float32)"
   ]
  },
  {
   "cell_type": "code",
   "execution_count": 133,
   "metadata": {},
   "outputs": [],
   "source": [
    "# neural network\n",
    "\n",
    "class Model(nn.Module):\n",
    "    def __init__(self) -> None:\n",
    "        super(Model, self).__init__()\n",
    "\n",
    "        self.fc1 = nn.Linear(2, 2)\n",
    "        self.fc2 = nn.Linear(2, 2)\n",
    "        self.fc3 = nn.Linear(2, 2)\n",
    "        self.fc4 = nn.Linear(2, 2)\n",
    "        self.fc5 = nn.Linear(2, 1)\n",
    "\n",
    "    def forward(self, input):\n",
    "        outputs = [input]\n",
    "\n",
    "        x = self.fc1(input)\n",
    "        outputs.append(x)\n",
    "        x = torch.tanh(x)\n",
    "        outputs.append(x)\n",
    "\n",
    "        x = self.fc2(x)\n",
    "        outputs.append(x)\n",
    "        x = torch.tanh(x)\n",
    "        outputs.append(x)\n",
    "\n",
    "        x = self.fc3(x)\n",
    "        outputs.append(x)\n",
    "        x = torch.tanh(x)\n",
    "        outputs.append(x)\n",
    "\n",
    "        x = self.fc4(x)\n",
    "        outputs.append(x)\n",
    "        x = torch.tanh(x)\n",
    "        outputs.append(x)\n",
    "\n",
    "        x = self.fc5(x)\n",
    "        outputs.append(x)\n",
    "\n",
    "        return x, outputs"
   ]
  },
  {
   "cell_type": "code",
   "execution_count": 134,
   "metadata": {},
   "outputs": [
    {
     "data": {
      "text/plain": [
       "Model(\n",
       "  (fc1): Linear(in_features=2, out_features=2, bias=True)\n",
       "  (fc2): Linear(in_features=2, out_features=2, bias=True)\n",
       "  (fc3): Linear(in_features=2, out_features=2, bias=True)\n",
       "  (fc4): Linear(in_features=2, out_features=2, bias=True)\n",
       "  (fc5): Linear(in_features=2, out_features=1, bias=True)\n",
       ")"
      ]
     },
     "execution_count": 134,
     "metadata": {},
     "output_type": "execute_result"
    }
   ],
   "source": [
    "model = Model().float()\n",
    "\n",
    "optimizer = optim.Adam(model.parameters(), lr=1e-3)\n",
    "model.requires_grad_(True)"
   ]
  },
  {
   "cell_type": "code",
   "execution_count": 135,
   "metadata": {},
   "outputs": [
    {
     "name": "stdout",
     "output_type": "stream",
     "text": [
      "epoch: 0, loss: 0.7548\n",
      "epoch: 1000, loss: 0.0970\n",
      "epoch: 2000, loss: 0.0324\n",
      "epoch: 3000, loss: 0.0156\n",
      "epoch: 4000, loss: 0.0085\n",
      "epoch: 5000, loss: 0.0049\n",
      "epoch: 6000, loss: 0.0029\n",
      "epoch: 7000, loss: 0.0018\n",
      "epoch: 8000, loss: 0.0011\n",
      "epoch: 9000, loss: 0.0007\n",
      "epoch: 10000, loss: 0.0004\n",
      "epoch: 11000, loss: 0.0003\n",
      "epoch: 12000, loss: 0.0002\n",
      "epoch: 13000, loss: 0.0001\n",
      "epoch: 14000, loss: 0.0001\n",
      "epoch: 15000, loss: 0.0000\n"
     ]
    },
    {
     "ename": "KeyboardInterrupt",
     "evalue": "",
     "output_type": "error",
     "traceback": [
      "\u001b[0;31m---------------------------------------------------------------------------\u001b[0m",
      "\u001b[0;31mKeyboardInterrupt\u001b[0m                         Traceback (most recent call last)",
      "\u001b[1;32m/Users/mujtabaalajmi/Documents/manim animations/manifold-hypothesis/testing.ipynb Cell 9\u001b[0m in \u001b[0;36m<cell line: 1>\u001b[0;34m()\u001b[0m\n\u001b[1;32m      <a href='vscode-notebook-cell:/Users/mujtabaalajmi/Documents/manim%20animations/manifold-hypothesis/testing.ipynb#X11sZmlsZQ%3D%3D?line=6'>7</a>\u001b[0m     \u001b[39mprint\u001b[39m(\u001b[39mf\u001b[39m\u001b[39m\"\u001b[39m\u001b[39mepoch: \u001b[39m\u001b[39m{\u001b[39;00mi\u001b[39m}\u001b[39;00m\u001b[39m, loss: \u001b[39m\u001b[39m{\u001b[39;00mloss\u001b[39m.\u001b[39mitem()\u001b[39m:\u001b[39;00m\u001b[39m.4f\u001b[39m\u001b[39m}\u001b[39;00m\u001b[39m\"\u001b[39m)\n\u001b[1;32m      <a href='vscode-notebook-cell:/Users/mujtabaalajmi/Documents/manim%20animations/manifold-hypothesis/testing.ipynb#X11sZmlsZQ%3D%3D?line=8'>9</a>\u001b[0m optimizer\u001b[39m.\u001b[39mzero_grad()\n\u001b[0;32m---> <a href='vscode-notebook-cell:/Users/mujtabaalajmi/Documents/manim%20animations/manifold-hypothesis/testing.ipynb#X11sZmlsZQ%3D%3D?line=9'>10</a>\u001b[0m loss\u001b[39m.\u001b[39;49mbackward()\n\u001b[1;32m     <a href='vscode-notebook-cell:/Users/mujtabaalajmi/Documents/manim%20animations/manifold-hypothesis/testing.ipynb#X11sZmlsZQ%3D%3D?line=10'>11</a>\u001b[0m optimizer\u001b[39m.\u001b[39mstep()\n",
      "File \u001b[0;32m~/opt/miniconda3/envs/manim/lib/python3.9/site-packages/torch/_tensor.py:396\u001b[0m, in \u001b[0;36mTensor.backward\u001b[0;34m(self, gradient, retain_graph, create_graph, inputs)\u001b[0m\n\u001b[1;32m    387\u001b[0m \u001b[39mif\u001b[39;00m has_torch_function_unary(\u001b[39mself\u001b[39m):\n\u001b[1;32m    388\u001b[0m     \u001b[39mreturn\u001b[39;00m handle_torch_function(\n\u001b[1;32m    389\u001b[0m         Tensor\u001b[39m.\u001b[39mbackward,\n\u001b[1;32m    390\u001b[0m         (\u001b[39mself\u001b[39m,),\n\u001b[0;32m   (...)\u001b[0m\n\u001b[1;32m    394\u001b[0m         create_graph\u001b[39m=\u001b[39mcreate_graph,\n\u001b[1;32m    395\u001b[0m         inputs\u001b[39m=\u001b[39minputs)\n\u001b[0;32m--> 396\u001b[0m torch\u001b[39m.\u001b[39;49mautograd\u001b[39m.\u001b[39;49mbackward(\u001b[39mself\u001b[39;49m, gradient, retain_graph, create_graph, inputs\u001b[39m=\u001b[39;49minputs)\n",
      "File \u001b[0;32m~/opt/miniconda3/envs/manim/lib/python3.9/site-packages/torch/autograd/__init__.py:173\u001b[0m, in \u001b[0;36mbackward\u001b[0;34m(tensors, grad_tensors, retain_graph, create_graph, grad_variables, inputs)\u001b[0m\n\u001b[1;32m    168\u001b[0m     retain_graph \u001b[39m=\u001b[39m create_graph\n\u001b[1;32m    170\u001b[0m \u001b[39m# The reason we repeat same the comment below is that\u001b[39;00m\n\u001b[1;32m    171\u001b[0m \u001b[39m# some Python versions print out the first line of a multi-line function\u001b[39;00m\n\u001b[1;32m    172\u001b[0m \u001b[39m# calls in the traceback and some print out the last line\u001b[39;00m\n\u001b[0;32m--> 173\u001b[0m Variable\u001b[39m.\u001b[39;49m_execution_engine\u001b[39m.\u001b[39;49mrun_backward(  \u001b[39m# Calls into the C++ engine to run the backward pass\u001b[39;49;00m\n\u001b[1;32m    174\u001b[0m     tensors, grad_tensors_, retain_graph, create_graph, inputs,\n\u001b[1;32m    175\u001b[0m     allow_unreachable\u001b[39m=\u001b[39;49m\u001b[39mTrue\u001b[39;49;00m, accumulate_grad\u001b[39m=\u001b[39;49m\u001b[39mTrue\u001b[39;49;00m)\n",
      "\u001b[0;31mKeyboardInterrupt\u001b[0m: "
     ]
    }
   ],
   "source": [
    "for i in range(100000):\n",
    "    x, labels = data[:, 0:2], data[:, 2].unsqueeze(1)\n",
    "    pred,_ = model(x)\n",
    "    loss = F.binary_cross_entropy_with_logits(pred, labels)\n",
    "\n",
    "    if i % 1000 == 0:\n",
    "        print(f\"epoch: {i}, loss: {loss.item():.4f}\")\n",
    "\n",
    "    optimizer.zero_grad()\n",
    "    loss.backward()\n",
    "    optimizer.step()\n",
    "    "
   ]
  },
  {
   "cell_type": "code",
   "execution_count": 137,
   "metadata": {},
   "outputs": [],
   "source": [
    "torch.save(model.state_dict(), \"saved_models/separating_spirals2d_tanh\")"
   ]
  },
  {
   "cell_type": "code",
   "execution_count": 113,
   "metadata": {},
   "outputs": [],
   "source": [
    "weights = [parameter for parameter in model.state_dict().values() if len(parameter.shape) != 1]\n",
    "biases = [parameter for parameter in model.state_dict().values() if len(parameter.shape) == 1]"
   ]
  },
  {
   "cell_type": "code",
   "execution_count": 114,
   "metadata": {},
   "outputs": [
    {
     "data": {
      "text/plain": [
       "[tensor([-0.0235,  1.2917]),\n",
       " tensor([-1.5779, -0.1957]),\n",
       " tensor([1.0228, 1.0179]),\n",
       " tensor([ 0.0248, -0.0104]),\n",
       " tensor([0.0002])]"
      ]
     },
     "execution_count": 114,
     "metadata": {},
     "output_type": "execute_result"
    }
   ],
   "source": [
    "biases"
   ]
  },
  {
   "cell_type": "code",
   "execution_count": 121,
   "metadata": {},
   "outputs": [],
   "source": [
    "def leaky_relu_inv(x, negative_slope=0.01):\n",
    "    return torch.minimum(1/negative_slope*x, x)"
   ]
  },
  {
   "cell_type": "code",
   "execution_count": 136,
   "metadata": {},
   "outputs": [
    {
     "name": "stderr",
     "output_type": "stream",
     "text": [
      "Exception ignored in: <function TransformNode.set_children.<locals>.<lambda> at 0x2e447f4c0>\n",
      "Traceback (most recent call last):\n",
      "  File \"/Users/mujtabaalajmi/opt/miniconda3/envs/manim/lib/python3.9/site-packages/matplotlib/transforms.py\", line 222, in <lambda>\n",
      "    self, lambda _, pop=child._parents.pop, k=id(self): pop(k))\n",
      "KeyboardInterrupt: \n"
     ]
    },
    {
     "ename": "KeyboardInterrupt",
     "evalue": "",
     "output_type": "error",
     "traceback": [
      "\u001b[0;31m---------------------------------------------------------------------------\u001b[0m",
      "\u001b[0;31mKeyboardInterrupt\u001b[0m                         Traceback (most recent call last)",
      "\u001b[1;32m/Users/mujtabaalajmi/Documents/manim animations/manifold-hypothesis/testing.ipynb Cell 14\u001b[0m in \u001b[0;36m<cell line: 62>\u001b[0;34m()\u001b[0m\n\u001b[1;32m     <a href='vscode-notebook-cell:/Users/mujtabaalajmi/Documents/manim%20animations/manifold-hypothesis/testing.ipynb#X13sZmlsZQ%3D%3D?line=58'>59</a>\u001b[0m     ax\u001b[39m.\u001b[39mset_ylim([\u001b[39m-\u001b[39m\u001b[39m5\u001b[39m, \u001b[39m5\u001b[39m])\n\u001b[1;32m     <a href='vscode-notebook-cell:/Users/mujtabaalajmi/Documents/manim%20animations/manifold-hypothesis/testing.ipynb#X13sZmlsZQ%3D%3D?line=59'>60</a>\u001b[0m     ax\u001b[39m.\u001b[39mset_xlim([\u001b[39m-\u001b[39m\u001b[39m5\u001b[39m,\u001b[39m5\u001b[39m])\n\u001b[0;32m---> <a href='vscode-notebook-cell:/Users/mujtabaalajmi/Documents/manim%20animations/manifold-hypothesis/testing.ipynb#X13sZmlsZQ%3D%3D?line=61'>62</a>\u001b[0m update_graph(\u001b[39m0\u001b[39;49m)\n\u001b[1;32m     <a href='vscode-notebook-cell:/Users/mujtabaalajmi/Documents/manim%20animations/manifold-hypothesis/testing.ipynb#X13sZmlsZQ%3D%3D?line=62'>63</a>\u001b[0m layer_slider\u001b[39m.\u001b[39mon_changed(update_graph)\n\u001b[1;32m     <a href='vscode-notebook-cell:/Users/mujtabaalajmi/Documents/manim%20animations/manifold-hypothesis/testing.ipynb#X13sZmlsZQ%3D%3D?line=64'>65</a>\u001b[0m plt\u001b[39m.\u001b[39mshow()\n",
      "\u001b[1;32m/Users/mujtabaalajmi/Documents/manim animations/manifold-hypothesis/testing.ipynb Cell 14\u001b[0m in \u001b[0;36mupdate_graph\u001b[0;34m(val)\u001b[0m\n\u001b[1;32m     <a href='vscode-notebook-cell:/Users/mujtabaalajmi/Documents/manim%20animations/manifold-hypothesis/testing.ipynb#X13sZmlsZQ%3D%3D?line=54'>55</a>\u001b[0m \u001b[39mfor\u001b[39;00m h_out, label \u001b[39min\u001b[39;00m \u001b[39mzip\u001b[39m(layer, labels):\n\u001b[1;32m     <a href='vscode-notebook-cell:/Users/mujtabaalajmi/Documents/manim%20animations/manifold-hypothesis/testing.ipynb#X13sZmlsZQ%3D%3D?line=55'>56</a>\u001b[0m     color \u001b[39m=\u001b[39m \u001b[39m\"\u001b[39m\u001b[39mro\u001b[39m\u001b[39m\"\u001b[39m \u001b[39mif\u001b[39;00m label \u001b[39m==\u001b[39m \u001b[39m0\u001b[39m \u001b[39melse\u001b[39;00m \u001b[39m\"\u001b[39m\u001b[39mbo\u001b[39m\u001b[39m\"\u001b[39m\n\u001b[0;32m---> <a href='vscode-notebook-cell:/Users/mujtabaalajmi/Documents/manim%20animations/manifold-hypothesis/testing.ipynb#X13sZmlsZQ%3D%3D?line=56'>57</a>\u001b[0m     ax\u001b[39m.\u001b[39;49mplot(\u001b[39m*\u001b[39;49mh_out, color)\n\u001b[1;32m     <a href='vscode-notebook-cell:/Users/mujtabaalajmi/Documents/manim%20animations/manifold-hypothesis/testing.ipynb#X13sZmlsZQ%3D%3D?line=58'>59</a>\u001b[0m ax\u001b[39m.\u001b[39mset_ylim([\u001b[39m-\u001b[39m\u001b[39m5\u001b[39m, \u001b[39m5\u001b[39m])\n\u001b[1;32m     <a href='vscode-notebook-cell:/Users/mujtabaalajmi/Documents/manim%20animations/manifold-hypothesis/testing.ipynb#X13sZmlsZQ%3D%3D?line=59'>60</a>\u001b[0m ax\u001b[39m.\u001b[39mset_xlim([\u001b[39m-\u001b[39m\u001b[39m5\u001b[39m,\u001b[39m5\u001b[39m])\n",
      "File \u001b[0;32m~/opt/miniconda3/envs/manim/lib/python3.9/site-packages/matplotlib/axes/_axes.py:1632\u001b[0m, in \u001b[0;36mAxes.plot\u001b[0;34m(self, scalex, scaley, data, *args, **kwargs)\u001b[0m\n\u001b[1;32m   1390\u001b[0m \u001b[39m\"\"\"\u001b[39;00m\n\u001b[1;32m   1391\u001b[0m \u001b[39mPlot y versus x as lines and/or markers.\u001b[39;00m\n\u001b[1;32m   1392\u001b[0m \n\u001b[0;32m   (...)\u001b[0m\n\u001b[1;32m   1629\u001b[0m \u001b[39m(``'green'``) or hex strings (``'#008000'``).\u001b[39;00m\n\u001b[1;32m   1630\u001b[0m \u001b[39m\"\"\"\u001b[39;00m\n\u001b[1;32m   1631\u001b[0m kwargs \u001b[39m=\u001b[39m cbook\u001b[39m.\u001b[39mnormalize_kwargs(kwargs, mlines\u001b[39m.\u001b[39mLine2D)\n\u001b[0;32m-> 1632\u001b[0m lines \u001b[39m=\u001b[39m [\u001b[39m*\u001b[39m\u001b[39mself\u001b[39m\u001b[39m.\u001b[39m_get_lines(\u001b[39m*\u001b[39margs, data\u001b[39m=\u001b[39mdata, \u001b[39m*\u001b[39m\u001b[39m*\u001b[39mkwargs)]\n\u001b[1;32m   1633\u001b[0m \u001b[39mfor\u001b[39;00m line \u001b[39min\u001b[39;00m lines:\n\u001b[1;32m   1634\u001b[0m     \u001b[39mself\u001b[39m\u001b[39m.\u001b[39madd_line(line)\n",
      "File \u001b[0;32m~/opt/miniconda3/envs/manim/lib/python3.9/site-packages/matplotlib/axes/_base.py:312\u001b[0m, in \u001b[0;36m_process_plot_var_args.__call__\u001b[0;34m(self, data, *args, **kwargs)\u001b[0m\n\u001b[1;32m    310\u001b[0m     this \u001b[39m+\u001b[39m\u001b[39m=\u001b[39m args[\u001b[39m0\u001b[39m],\n\u001b[1;32m    311\u001b[0m     args \u001b[39m=\u001b[39m args[\u001b[39m1\u001b[39m:]\n\u001b[0;32m--> 312\u001b[0m \u001b[39myield from\u001b[39;00m \u001b[39mself\u001b[39;49m\u001b[39m.\u001b[39;49m_plot_args(this, kwargs)\n",
      "File \u001b[0;32m~/opt/miniconda3/envs/manim/lib/python3.9/site-packages/matplotlib/axes/_base.py:538\u001b[0m, in \u001b[0;36m_process_plot_var_args._plot_args\u001b[0;34m(self, tup, kwargs, return_kwargs)\u001b[0m\n\u001b[1;32m    536\u001b[0m     \u001b[39mreturn\u001b[39;00m \u001b[39mlist\u001b[39m(result)\n\u001b[1;32m    537\u001b[0m \u001b[39melse\u001b[39;00m:\n\u001b[0;32m--> 538\u001b[0m     \u001b[39mreturn\u001b[39;00m [l[\u001b[39m0\u001b[39m] \u001b[39mfor\u001b[39;00m l \u001b[39min\u001b[39;00m result]\n",
      "File \u001b[0;32m~/opt/miniconda3/envs/manim/lib/python3.9/site-packages/matplotlib/axes/_base.py:538\u001b[0m, in \u001b[0;36m<listcomp>\u001b[0;34m(.0)\u001b[0m\n\u001b[1;32m    536\u001b[0m     \u001b[39mreturn\u001b[39;00m \u001b[39mlist\u001b[39m(result)\n\u001b[1;32m    537\u001b[0m \u001b[39melse\u001b[39;00m:\n\u001b[0;32m--> 538\u001b[0m     \u001b[39mreturn\u001b[39;00m [l[\u001b[39m0\u001b[39m] \u001b[39mfor\u001b[39;00m l \u001b[39min\u001b[39;00m result]\n",
      "File \u001b[0;32m~/opt/miniconda3/envs/manim/lib/python3.9/site-packages/matplotlib/axes/_base.py:531\u001b[0m, in \u001b[0;36m<genexpr>\u001b[0;34m(.0)\u001b[0m\n\u001b[1;32m    528\u001b[0m \u001b[39melse\u001b[39;00m:\n\u001b[1;32m    529\u001b[0m     labels \u001b[39m=\u001b[39m [label] \u001b[39m*\u001b[39m n_datasets\n\u001b[0;32m--> 531\u001b[0m result \u001b[39m=\u001b[39m (make_artist(x[:, j \u001b[39m%\u001b[39;49m ncx], y[:, j \u001b[39m%\u001b[39;49m ncy], kw,\n\u001b[1;32m    532\u001b[0m                       {\u001b[39m*\u001b[39;49m\u001b[39m*\u001b[39;49mkwargs, \u001b[39m'\u001b[39;49m\u001b[39mlabel\u001b[39;49m\u001b[39m'\u001b[39;49m: label})\n\u001b[1;32m    533\u001b[0m           \u001b[39mfor\u001b[39;00m j, label \u001b[39min\u001b[39;00m \u001b[39menumerate\u001b[39m(labels))\n\u001b[1;32m    535\u001b[0m \u001b[39mif\u001b[39;00m return_kwargs:\n\u001b[1;32m    536\u001b[0m     \u001b[39mreturn\u001b[39;00m \u001b[39mlist\u001b[39m(result)\n",
      "File \u001b[0;32m~/opt/miniconda3/envs/manim/lib/python3.9/site-packages/matplotlib/axes/_base.py:351\u001b[0m, in \u001b[0;36m_process_plot_var_args._makeline\u001b[0;34m(self, x, y, kw, kwargs)\u001b[0m\n\u001b[1;32m    349\u001b[0m default_dict \u001b[39m=\u001b[39m \u001b[39mself\u001b[39m\u001b[39m.\u001b[39m_getdefaults(\u001b[39mset\u001b[39m(), kw)\n\u001b[1;32m    350\u001b[0m \u001b[39mself\u001b[39m\u001b[39m.\u001b[39m_setdefaults(default_dict, kw)\n\u001b[0;32m--> 351\u001b[0m seg \u001b[39m=\u001b[39m mlines\u001b[39m.\u001b[39;49mLine2D(x, y, \u001b[39m*\u001b[39;49m\u001b[39m*\u001b[39;49mkw)\n\u001b[1;32m    352\u001b[0m \u001b[39mreturn\u001b[39;00m seg, kw\n",
      "File \u001b[0;32m~/opt/miniconda3/envs/manim/lib/python3.9/site-packages/matplotlib/lines.py:371\u001b[0m, in \u001b[0;36mLine2D.__init__\u001b[0;34m(self, xdata, ydata, linewidth, linestyle, color, marker, markersize, markeredgewidth, markeredgecolor, markerfacecolor, markerfacecoloralt, fillstyle, antialiased, dash_capstyle, solid_capstyle, dash_joinstyle, solid_joinstyle, pickradius, drawstyle, markevery, **kwargs)\u001b[0m\n\u001b[1;32m    369\u001b[0m \u001b[39mself\u001b[39m\u001b[39m.\u001b[39m_color \u001b[39m=\u001b[39m \u001b[39mNone\u001b[39;00m\n\u001b[1;32m    370\u001b[0m \u001b[39mself\u001b[39m\u001b[39m.\u001b[39mset_color(color)\n\u001b[0;32m--> 371\u001b[0m \u001b[39mself\u001b[39m\u001b[39m.\u001b[39m_marker \u001b[39m=\u001b[39m MarkerStyle(marker, fillstyle)\n\u001b[1;32m    373\u001b[0m \u001b[39mself\u001b[39m\u001b[39m.\u001b[39m_markevery \u001b[39m=\u001b[39m \u001b[39mNone\u001b[39;00m\n\u001b[1;32m    374\u001b[0m \u001b[39mself\u001b[39m\u001b[39m.\u001b[39m_markersize \u001b[39m=\u001b[39m \u001b[39mNone\u001b[39;00m\n",
      "File \u001b[0;32m~/opt/miniconda3/envs/manim/lib/python3.9/site-packages/matplotlib/markers.py:235\u001b[0m, in \u001b[0;36mMarkerStyle.__init__\u001b[0;34m(self, marker, fillstyle)\u001b[0m\n\u001b[1;32m    233\u001b[0m \u001b[39mself\u001b[39m\u001b[39m.\u001b[39m_marker_function \u001b[39m=\u001b[39m \u001b[39mNone\u001b[39;00m\n\u001b[1;32m    234\u001b[0m \u001b[39mself\u001b[39m\u001b[39m.\u001b[39m_set_fillstyle(fillstyle)\n\u001b[0;32m--> 235\u001b[0m \u001b[39mself\u001b[39;49m\u001b[39m.\u001b[39;49m_set_marker(marker)\n",
      "File \u001b[0;32m~/opt/miniconda3/envs/manim/lib/python3.9/site-packages/matplotlib/markers.py:334\u001b[0m, in \u001b[0;36mMarkerStyle._set_marker\u001b[0;34m(self, marker)\u001b[0m\n\u001b[1;32m    332\u001b[0m \u001b[39mif\u001b[39;00m \u001b[39mnot\u001b[39;00m \u001b[39misinstance\u001b[39m(marker, MarkerStyle):\n\u001b[1;32m    333\u001b[0m     \u001b[39mself\u001b[39m\u001b[39m.\u001b[39m_marker \u001b[39m=\u001b[39m marker\n\u001b[0;32m--> 334\u001b[0m     \u001b[39mself\u001b[39;49m\u001b[39m.\u001b[39;49m_recache()\n",
      "File \u001b[0;32m~/opt/miniconda3/envs/manim/lib/python3.9/site-packages/matplotlib/markers.py:251\u001b[0m, in \u001b[0;36mMarkerStyle._recache\u001b[0;34m(self)\u001b[0m\n\u001b[1;32m    247\u001b[0m \u001b[39m# Initial guess: Assume the marker is filled unless the fillstyle is\u001b[39;00m\n\u001b[1;32m    248\u001b[0m \u001b[39m# set to 'none'. The marker function will override this for unfilled\u001b[39;00m\n\u001b[1;32m    249\u001b[0m \u001b[39m# markers.\u001b[39;00m\n\u001b[1;32m    250\u001b[0m \u001b[39mself\u001b[39m\u001b[39m.\u001b[39m_filled \u001b[39m=\u001b[39m \u001b[39mself\u001b[39m\u001b[39m.\u001b[39m_fillstyle \u001b[39m!=\u001b[39m \u001b[39m'\u001b[39m\u001b[39mnone\u001b[39m\u001b[39m'\u001b[39m\n\u001b[0;32m--> 251\u001b[0m \u001b[39mself\u001b[39;49m\u001b[39m.\u001b[39;49m_marker_function()\n",
      "File \u001b[0;32m~/opt/miniconda3/envs/manim/lib/python3.9/site-packages/matplotlib/markers.py:436\u001b[0m, in \u001b[0;36mMarkerStyle._set_circle\u001b[0;34m(self, reduction)\u001b[0m\n\u001b[1;32m    435\u001b[0m \u001b[39mdef\u001b[39;00m \u001b[39m_set_circle\u001b[39m(\u001b[39mself\u001b[39m, reduction\u001b[39m=\u001b[39m\u001b[39m1.0\u001b[39m):\n\u001b[0;32m--> 436\u001b[0m     \u001b[39mself\u001b[39m\u001b[39m.\u001b[39m_transform \u001b[39m=\u001b[39m Affine2D()\u001b[39m.\u001b[39mscale(\u001b[39m0.5\u001b[39m \u001b[39m*\u001b[39m reduction)\n\u001b[1;32m    437\u001b[0m     \u001b[39mself\u001b[39m\u001b[39m.\u001b[39m_snap_threshold \u001b[39m=\u001b[39m np\u001b[39m.\u001b[39minf\n\u001b[1;32m    438\u001b[0m     \u001b[39mif\u001b[39;00m \u001b[39mnot\u001b[39;00m \u001b[39mself\u001b[39m\u001b[39m.\u001b[39m_half_fill():\n",
      "File \u001b[0;32m~/opt/miniconda3/envs/manim/lib/python3.9/site-packages/matplotlib/transforms.py:1910\u001b[0m, in \u001b[0;36mAffine2D.__init__\u001b[0;34m(self, matrix, **kwargs)\u001b[0m\n\u001b[1;32m   1900\u001b[0m \u001b[39mdef\u001b[39;00m \u001b[39m__init__\u001b[39m(\u001b[39mself\u001b[39m, matrix\u001b[39m=\u001b[39m\u001b[39mNone\u001b[39;00m, \u001b[39m*\u001b[39m\u001b[39m*\u001b[39mkwargs):\n\u001b[1;32m   1901\u001b[0m     \u001b[39m\"\"\"\u001b[39;00m\n\u001b[1;32m   1902\u001b[0m \u001b[39m    Initialize an Affine transform from a 3x3 numpy float array::\u001b[39;00m\n\u001b[1;32m   1903\u001b[0m \n\u001b[0;32m   (...)\u001b[0m\n\u001b[1;32m   1908\u001b[0m \u001b[39m    If *matrix* is None, initialize with the identity transform.\u001b[39;00m\n\u001b[1;32m   1909\u001b[0m \u001b[39m    \"\"\"\u001b[39;00m\n\u001b[0;32m-> 1910\u001b[0m     \u001b[39msuper\u001b[39;49m()\u001b[39m.\u001b[39;49m\u001b[39m__init__\u001b[39;49m(\u001b[39m*\u001b[39;49m\u001b[39m*\u001b[39;49mkwargs)\n\u001b[1;32m   1911\u001b[0m     \u001b[39mif\u001b[39;00m matrix \u001b[39mis\u001b[39;00m \u001b[39mNone\u001b[39;00m:\n\u001b[1;32m   1912\u001b[0m         \u001b[39m# A bit faster than np.identity(3).\u001b[39;00m\n\u001b[1;32m   1913\u001b[0m         matrix \u001b[39m=\u001b[39m IdentityTransform\u001b[39m.\u001b[39m_mtx\u001b[39m.\u001b[39mcopy()\n",
      "File \u001b[0;32m~/opt/miniconda3/envs/manim/lib/python3.9/site-packages/matplotlib/transforms.py:1784\u001b[0m, in \u001b[0;36mAffineBase.__init__\u001b[0;34m(self, *args, **kwargs)\u001b[0m\n\u001b[1;32m   1783\u001b[0m \u001b[39mdef\u001b[39;00m \u001b[39m__init__\u001b[39m(\u001b[39mself\u001b[39m, \u001b[39m*\u001b[39margs, \u001b[39m*\u001b[39m\u001b[39m*\u001b[39mkwargs):\n\u001b[0;32m-> 1784\u001b[0m     \u001b[39msuper\u001b[39;49m()\u001b[39m.\u001b[39m\u001b[39m__init__\u001b[39m(\u001b[39m*\u001b[39margs, \u001b[39m*\u001b[39m\u001b[39m*\u001b[39mkwargs)\n\u001b[1;32m   1785\u001b[0m     \u001b[39mself\u001b[39m\u001b[39m.\u001b[39m_inverted \u001b[39m=\u001b[39m \u001b[39mNone\u001b[39;00m\n",
      "\u001b[0;31mKeyboardInterrupt\u001b[0m: "
     ]
    },
    {
     "data": {
      "application/vnd.jupyter.widget-view+json": {
       "model_id": "bc7576f1cee24721b8d96264d0fad822",
       "version_major": 2,
       "version_minor": 0
      },
      "image/png": "[encoded data removed]",
      "text/html": [
       "\n",
       "            <div style=\"display: inline-block;\">\n",
       "                <div class=\"jupyter-widgets widget-label\" style=\"text-align: center;\">\n",
       "                    Figure\n",
       "                </div>\n",
       "                <img src='data:image/png;base64,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' width=432.0/>\n",
       "            </div>\n",
       "        "
      ],
      "text/plain": [
       "Canvas(toolbar=Toolbar(toolitems=[('Home', 'Reset original view', 'home', 'home'), ('Back', 'Back to previous …"
      ]
     },
     "metadata": {},
     "output_type": "display_data"
    }
   ],
   "source": [
    "from matplotlib.widgets import Slider\n",
    "%matplotlib widget\n",
    "\n",
    "x, labels = data[:, 0:2], data[:, 2].detach().numpy()\n",
    "_, hidden_out = model(x)\n",
    "\n",
    "\n",
    "# TRY TO GET THE REVERSE TRANSFORMATION TO WORK!\n",
    "w = list(model.parameters())[-2].detach().squeeze(0)\n",
    "b = list(model.parameters())[-1].detach().squeeze(0)\n",
    "x = np.arange(-100, 100, 0.001)\n",
    "y = -w[0]/w[1] * x - b / w[1]\n",
    "\n",
    "line = np.concatenate((x.reshape(-1, 1), y.reshape(-1, 1)), axis=1)\n",
    "\n",
    "\n",
    "bound = torch.tensor(line).float().detach()\n",
    "bounds = [bound]\n",
    "\n",
    "W = list(reversed(list(model.parameters())))[2:]\n",
    "bound = leaky_relu_inv(bound)\n",
    "bounds.append(bound)\n",
    "bound -= W[0]\n",
    "bound = bound @ torch.inverse(W[1])\n",
    "bounds.append(bound)\n",
    "bound = leaky_relu_inv(bound)\n",
    "bounds.append(bound)\n",
    "bound -= W[2]\n",
    "bound = bound @ torch.inverse(W[3])\n",
    "bounds.append(bound)\n",
    "bound = leaky_relu_inv(bound)\n",
    "bounds.append(bound)\n",
    "bound -= W[4]\n",
    "bound = bound @ torch.inverse(W[5])\n",
    "bounds.append(bound)\n",
    "# something goes wrong here?\n",
    "bound = leaky_relu_inv(bound)\n",
    "bounds.append(bound)\n",
    "bound -= W[6]\n",
    "bound = bound @ torch.inverse(W[7])\n",
    "bounds.append(bound)\n",
    "bounds = list(reversed(bounds))\n",
    "ax = plt.axes()\n",
    "\n",
    "\n",
    "\n",
    "ax_layer = plt.axes([0.25, 0.1, 0.65, 0.03])\n",
    "layer_slider = Slider(ax_layer, label=\"layer\", valmin=0, valmax=len(hidden_out) - 2, valstep=1)\n",
    "\n",
    "def update_graph(val):\n",
    "    ax.clear()\n",
    "    layer = hidden_out[layer_slider.val].detach().numpy()\n",
    "    ax.plot(*bounds[layer_slider.val].detach().numpy().T)\n",
    "\n",
    "    for h_out, label in zip(layer, labels):\n",
    "        color = \"ro\" if label == 0 else \"bo\"\n",
    "        ax.plot(*h_out, color)\n",
    "\n",
    "    ax.set_ylim([-5, 5])\n",
    "    ax.set_xlim([-5,5])\n",
    "    \n",
    "update_graph(0)\n",
    "layer_slider.on_changed(update_graph)\n",
    "\n",
    "plt.show()"
   ]
  },
  {
   "cell_type": "code",
   "execution_count": null,
   "metadata": {},
   "outputs": [],
   "source": []
  }
 ],
 "metadata": {
  "kernelspec": {
   "display_name": "Python 3.9.12 ('manim')",
   "language": "python",
   "name": "python3"
  },
  "language_info": {
   "codemirror_mode": {
    "name": "ipython",
    "version": 3
   },
   "file_extension": ".py",
   "mimetype": "text/x-python",
   "name": "python",
   "nbconvert_exporter": "python",
   "pygments_lexer": "ipython3",
   "version": "3.9.12"
  },
  "orig_nbformat": 4,
  "vscode": {
   "interpreter": {
    "hash": "fb9120064336bb4a820ee72dc53f8791cc07ee69b01c2c7b4f2aa66167e36d8d"
   }
  }
 },
 "nbformat": 4,
 "nbformat_minor": 2
}
