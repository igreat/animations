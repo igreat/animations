{
 "cells": [
  {
   "cell_type": "code",
   "execution_count": 14,
   "metadata": {},
   "outputs": [],
   "source": [
    "import torch\n",
    "from torch import nn\n",
    "from torch import optim\n",
    "import torch.nn.functional as F\n",
    "import numpy as np\n",
    "import matplotlib.pyplot as plt\n",
    "%matplotlib inline"
   ]
  },
  {
   "cell_type": "code",
   "execution_count": 161,
   "metadata": {},
   "outputs": [
    {
     "name": "stdout",
     "output_type": "stream",
     "text": [
      "[0 1 2 3 4 5 6 7 8 9]\n"
     ]
    }
   ],
   "source": [
    "print(np.arange(10))"
   ]
  },
  {
   "cell_type": "code",
   "execution_count": 162,
   "metadata": {},
   "outputs": [
    {
     "name": "stdout",
     "output_type": "stream",
     "text": [
      "(2, 1000) (2, 1000)\n"
     ]
    },
    {
     "data": {
      "text/plain": [
       "[<matplotlib.lines.Line2D at 0x413164370>]"
      ]
     },
     "execution_count": 162,
     "metadata": {},
     "output_type": "execute_result"
    },
    {
     "data": {
      "image/png": "[encoded data removed]",
      "text/plain": [
       "<Figure size 432x288 with 1 Axes>"
      ]
     },
     "metadata": {
      "needs_background": "light"
     },
     "output_type": "display_data"
    }
   ],
   "source": [
    "import random\n",
    "from numpy import pi as PI\n",
    "import math\n",
    "\n",
    "blue_spiral = []\n",
    "for _ in range(1000):\n",
    "    theta = random.random() * 2 * PI\n",
    "    r = (random.random()) / 2\n",
    "    x = math.cos(theta) * r\n",
    "    y = math.sin(theta) * r\n",
    "    blue_spiral.append([x, y])\n",
    "\n",
    "red_spiral = []\n",
    "for _ in range(1000):\n",
    "    theta = random.random() * 2 * PI\n",
    "    r = (random.random()) / 2 + 0.75\n",
    "    x = math.cos(theta) * r\n",
    "    y = math.sin(theta) * r\n",
    "    red_spiral.append([x, y])\n",
    "\n",
    "blue_spiral = np.array(blue_spiral).T\n",
    "red_spiral = np.array(red_spiral).T\n",
    "\n",
    "print(blue_spiral.shape, red_spiral.shape)\n",
    "plt.plot(*blue_spiral, \"bo\")\n",
    "plt.plot(*red_spiral, \"ro\")"
   ]
  },
  {
   "cell_type": "code",
   "execution_count": 37,
   "metadata": {},
   "outputs": [
    {
     "data": {
      "text/plain": [
       "[<matplotlib.lines.Line2D at 0x3381252e0>]"
      ]
     },
     "execution_count": 37,
     "metadata": {},
     "output_type": "execute_result"
    }
   ],
   "source": [
    "t = np.arange(2, 10, 0.01) * 0.4\n",
    "blue_spiral = np.array([np.cos(t), np.sin(t)]) * t\n",
    "plt.grid()\n",
    "plt.plot(*blue_spiral, \"bo\")\n",
    "\n",
    "red_spiral = np.array([np.cos(t + np.pi), np.sin(t + np.pi)]) * t\n",
    "plt.plot(*red_spiral, \"ro\")"
   ]
  },
  {
   "cell_type": "code",
   "execution_count": 5,
   "metadata": {},
   "outputs": [
    {
     "data": {
      "text/plain": [
       "(2, 800)"
      ]
     },
     "execution_count": 5,
     "metadata": {},
     "output_type": "execute_result"
    }
   ],
   "source": [
    "blue_spiral.shape # (60x2  * 2x2)"
   ]
  },
  {
   "cell_type": "code",
   "execution_count": 38,
   "metadata": {},
   "outputs": [],
   "source": [
    "# preparing data for training\n",
    "labels_blue = np.ones(len(blue_spiral.T)).reshape(-1, 1)\n",
    "labels_red = np.zeros(len(blue_spiral.T)).reshape(-1, 1)\n",
    "\n",
    "blue_spiral_l = np.concatenate((blue_spiral.T, labels_blue), axis=1)\n",
    "red_spiral_l = np.concatenate((red_spiral.T, labels_red), axis=1)\n",
    "\n",
    "data = np.concatenate((blue_spiral_l, red_spiral_l), axis=0)\n",
    "data = torch.tensor(data, dtype=torch.float32)"
   ]
  },
  {
   "cell_type": "code",
   "execution_count": 28,
   "metadata": {},
   "outputs": [],
   "source": [
    "# neural network\n",
    "\n",
    "class Model(nn.Module):\n",
    "    def __init__(self) -> None:\n",
    "        super(Model, self).__init__()\n",
    "\n",
    "        self.fc1 = nn.Linear(2, 2)\n",
    "        self.fc2 = nn.Linear(2, 2)\n",
    "        self.fc3 = nn.Linear(2, 2)\n",
    "        self.fc4 = nn.Linear(2, 2)\n",
    "        self.fc5 = nn.Linear(2, 1)\n",
    "\n",
    "    def forward(self, input):\n",
    "        outputs = [input]\n",
    "\n",
    "        x = self.fc1(input)\n",
    "        outputs.append(x)\n",
    "        x = torch.tanh(x)\n",
    "        outputs.append(x)\n",
    "\n",
    "        x = self.fc2(x)\n",
    "        outputs.append(x)\n",
    "        x = torch.tanh(x)\n",
    "        outputs.append(x)\n",
    "\n",
    "        x = self.fc3(x)\n",
    "        outputs.append(x)\n",
    "        x = torch.tanh(x)\n",
    "        outputs.append(x)\n",
    "\n",
    "        x = self.fc4(x)\n",
    "        outputs.append(x)\n",
    "        x = torch.tanh(x)\n",
    "        outputs.append(x)\n",
    "\n",
    "        x = self.fc5(x)\n",
    "        outputs.append(x)\n",
    "\n",
    "        return x, outputs"
   ]
  },
  {
   "cell_type": "code",
   "execution_count": 31,
   "metadata": {},
   "outputs": [
    {
     "data": {
      "text/plain": [
       "Model(\n",
       "  (fc1): Linear(in_features=2, out_features=2, bias=True)\n",
       "  (fc2): Linear(in_features=2, out_features=2, bias=True)\n",
       "  (fc3): Linear(in_features=2, out_features=2, bias=True)\n",
       "  (fc4): Linear(in_features=2, out_features=2, bias=True)\n",
       "  (fc5): Linear(in_features=2, out_features=1, bias=True)\n",
       ")"
      ]
     },
     "execution_count": 31,
     "metadata": {},
     "output_type": "execute_result"
    }
   ],
   "source": [
    "model = Model().float()\n",
    "\n",
    "optimizer = optim.Adam(model.parameters(), lr=1e-3)\n",
    "model.requires_grad_(True)"
   ]
  },
  {
   "cell_type": "code",
   "execution_count": 32,
   "metadata": {},
   "outputs": [
    {
     "name": "stdout",
     "output_type": "stream",
     "text": [
      "epoch: 0, loss: 0.6959\n",
      "epoch: 1000, loss: 0.0936\n",
      "epoch: 2000, loss: 0.0264\n",
      "epoch: 3000, loss: 0.0116\n",
      "epoch: 4000, loss: 0.0063\n",
      "epoch: 5000, loss: 0.0036\n",
      "epoch: 6000, loss: 0.0022\n",
      "epoch: 7000, loss: 0.0013\n",
      "epoch: 8000, loss: 0.0008\n",
      "epoch: 9000, loss: 0.0005\n",
      "epoch: 10000, loss: 0.0003\n",
      "epoch: 11000, loss: 0.0002\n",
      "epoch: 12000, loss: 0.0001\n",
      "epoch: 13000, loss: 0.0001\n",
      "epoch: 14000, loss: 0.0000\n"
     ]
    },
    {
     "ename": "KeyboardInterrupt",
     "evalue": "",
     "output_type": "error",
     "traceback": [
      "\u001b[0;31m---------------------------------------------------------------------------\u001b[0m",
      "\u001b[0;31mKeyboardInterrupt\u001b[0m                         Traceback (most recent call last)",
      "\u001b[1;32m/Users/mujtabaalajmi/Documents/manim animations/manifold-hypothesis/testing.ipynb Cell 9\u001b[0m in \u001b[0;36m<cell line: 1>\u001b[0;34m()\u001b[0m\n\u001b[1;32m      <a href='vscode-notebook-cell:/Users/mujtabaalajmi/Documents/manim%20animations/manifold-hypothesis/testing.ipynb#X11sZmlsZQ%3D%3D?line=0'>1</a>\u001b[0m \u001b[39mfor\u001b[39;00m i \u001b[39min\u001b[39;00m \u001b[39mrange\u001b[39m(\u001b[39m100000\u001b[39m):\n\u001b[1;32m      <a href='vscode-notebook-cell:/Users/mujtabaalajmi/Documents/manim%20animations/manifold-hypothesis/testing.ipynb#X11sZmlsZQ%3D%3D?line=1'>2</a>\u001b[0m     x, labels \u001b[39m=\u001b[39m data[:, \u001b[39m0\u001b[39m:\u001b[39m2\u001b[39m], data[:, \u001b[39m2\u001b[39m]\u001b[39m.\u001b[39munsqueeze(\u001b[39m1\u001b[39m)\n\u001b[0;32m----> <a href='vscode-notebook-cell:/Users/mujtabaalajmi/Documents/manim%20animations/manifold-hypothesis/testing.ipynb#X11sZmlsZQ%3D%3D?line=2'>3</a>\u001b[0m     pred,_ \u001b[39m=\u001b[39m model(x)\n\u001b[1;32m      <a href='vscode-notebook-cell:/Users/mujtabaalajmi/Documents/manim%20animations/manifold-hypothesis/testing.ipynb#X11sZmlsZQ%3D%3D?line=3'>4</a>\u001b[0m     loss \u001b[39m=\u001b[39m F\u001b[39m.\u001b[39mbinary_cross_entropy_with_logits(pred, labels)\n\u001b[1;32m      <a href='vscode-notebook-cell:/Users/mujtabaalajmi/Documents/manim%20animations/manifold-hypothesis/testing.ipynb#X11sZmlsZQ%3D%3D?line=5'>6</a>\u001b[0m     \u001b[39mif\u001b[39;00m i \u001b[39m%\u001b[39m \u001b[39m1000\u001b[39m \u001b[39m==\u001b[39m \u001b[39m0\u001b[39m:\n",
      "File \u001b[0;32m~/opt/miniconda3/envs/manim/lib/python3.9/site-packages/torch/nn/modules/module.py:1130\u001b[0m, in \u001b[0;36mModule._call_impl\u001b[0;34m(self, *input, **kwargs)\u001b[0m\n\u001b[1;32m   1126\u001b[0m \u001b[39m# If we don't have any hooks, we want to skip the rest of the logic in\u001b[39;00m\n\u001b[1;32m   1127\u001b[0m \u001b[39m# this function, and just call forward.\u001b[39;00m\n\u001b[1;32m   1128\u001b[0m \u001b[39mif\u001b[39;00m \u001b[39mnot\u001b[39;00m (\u001b[39mself\u001b[39m\u001b[39m.\u001b[39m_backward_hooks \u001b[39mor\u001b[39;00m \u001b[39mself\u001b[39m\u001b[39m.\u001b[39m_forward_hooks \u001b[39mor\u001b[39;00m \u001b[39mself\u001b[39m\u001b[39m.\u001b[39m_forward_pre_hooks \u001b[39mor\u001b[39;00m _global_backward_hooks\n\u001b[1;32m   1129\u001b[0m         \u001b[39mor\u001b[39;00m _global_forward_hooks \u001b[39mor\u001b[39;00m _global_forward_pre_hooks):\n\u001b[0;32m-> 1130\u001b[0m     \u001b[39mreturn\u001b[39;00m forward_call(\u001b[39m*\u001b[39;49m\u001b[39minput\u001b[39;49m, \u001b[39m*\u001b[39;49m\u001b[39m*\u001b[39;49mkwargs)\n\u001b[1;32m   1131\u001b[0m \u001b[39m# Do not call functions when jit is used\u001b[39;00m\n\u001b[1;32m   1132\u001b[0m full_backward_hooks, non_full_backward_hooks \u001b[39m=\u001b[39m [], []\n",
      "\u001b[1;32m/Users/mujtabaalajmi/Documents/manim animations/manifold-hypothesis/testing.ipynb Cell 9\u001b[0m in \u001b[0;36mModel.forward\u001b[0;34m(self, input)\u001b[0m\n\u001b[1;32m     <a href='vscode-notebook-cell:/Users/mujtabaalajmi/Documents/manim%20animations/manifold-hypothesis/testing.ipynb#X11sZmlsZQ%3D%3D?line=27'>28</a>\u001b[0m x \u001b[39m=\u001b[39m torch\u001b[39m.\u001b[39mtanh(x)\n\u001b[1;32m     <a href='vscode-notebook-cell:/Users/mujtabaalajmi/Documents/manim%20animations/manifold-hypothesis/testing.ipynb#X11sZmlsZQ%3D%3D?line=28'>29</a>\u001b[0m outputs\u001b[39m.\u001b[39mappend(x)\n\u001b[0;32m---> <a href='vscode-notebook-cell:/Users/mujtabaalajmi/Documents/manim%20animations/manifold-hypothesis/testing.ipynb#X11sZmlsZQ%3D%3D?line=30'>31</a>\u001b[0m x \u001b[39m=\u001b[39m \u001b[39mself\u001b[39;49m\u001b[39m.\u001b[39;49mfc4(x)\n\u001b[1;32m     <a href='vscode-notebook-cell:/Users/mujtabaalajmi/Documents/manim%20animations/manifold-hypothesis/testing.ipynb#X11sZmlsZQ%3D%3D?line=31'>32</a>\u001b[0m outputs\u001b[39m.\u001b[39mappend(x)\n\u001b[1;32m     <a href='vscode-notebook-cell:/Users/mujtabaalajmi/Documents/manim%20animations/manifold-hypothesis/testing.ipynb#X11sZmlsZQ%3D%3D?line=32'>33</a>\u001b[0m x \u001b[39m=\u001b[39m torch\u001b[39m.\u001b[39mtanh(x)\n",
      "File \u001b[0;32m~/opt/miniconda3/envs/manim/lib/python3.9/site-packages/torch/nn/modules/module.py:1130\u001b[0m, in \u001b[0;36mModule._call_impl\u001b[0;34m(self, *input, **kwargs)\u001b[0m\n\u001b[1;32m   1126\u001b[0m \u001b[39m# If we don't have any hooks, we want to skip the rest of the logic in\u001b[39;00m\n\u001b[1;32m   1127\u001b[0m \u001b[39m# this function, and just call forward.\u001b[39;00m\n\u001b[1;32m   1128\u001b[0m \u001b[39mif\u001b[39;00m \u001b[39mnot\u001b[39;00m (\u001b[39mself\u001b[39m\u001b[39m.\u001b[39m_backward_hooks \u001b[39mor\u001b[39;00m \u001b[39mself\u001b[39m\u001b[39m.\u001b[39m_forward_hooks \u001b[39mor\u001b[39;00m \u001b[39mself\u001b[39m\u001b[39m.\u001b[39m_forward_pre_hooks \u001b[39mor\u001b[39;00m _global_backward_hooks\n\u001b[1;32m   1129\u001b[0m         \u001b[39mor\u001b[39;00m _global_forward_hooks \u001b[39mor\u001b[39;00m _global_forward_pre_hooks):\n\u001b[0;32m-> 1130\u001b[0m     \u001b[39mreturn\u001b[39;00m forward_call(\u001b[39m*\u001b[39;49m\u001b[39minput\u001b[39;49m, \u001b[39m*\u001b[39;49m\u001b[39m*\u001b[39;49mkwargs)\n\u001b[1;32m   1131\u001b[0m \u001b[39m# Do not call functions when jit is used\u001b[39;00m\n\u001b[1;32m   1132\u001b[0m full_backward_hooks, non_full_backward_hooks \u001b[39m=\u001b[39m [], []\n",
      "File \u001b[0;32m~/opt/miniconda3/envs/manim/lib/python3.9/site-packages/torch/nn/modules/linear.py:114\u001b[0m, in \u001b[0;36mLinear.forward\u001b[0;34m(self, input)\u001b[0m\n\u001b[1;32m    113\u001b[0m \u001b[39mdef\u001b[39;00m \u001b[39mforward\u001b[39m(\u001b[39mself\u001b[39m, \u001b[39minput\u001b[39m: Tensor) \u001b[39m-\u001b[39m\u001b[39m>\u001b[39m Tensor:\n\u001b[0;32m--> 114\u001b[0m     \u001b[39mreturn\u001b[39;00m F\u001b[39m.\u001b[39;49mlinear(\u001b[39minput\u001b[39;49m, \u001b[39mself\u001b[39;49m\u001b[39m.\u001b[39;49mweight, \u001b[39mself\u001b[39;49m\u001b[39m.\u001b[39;49mbias)\n",
      "\u001b[0;31mKeyboardInterrupt\u001b[0m: "
     ]
    }
   ],
   "source": [
    "for i in range(100000):\n",
    "    x, labels = data[:, 0:2], data[:, 2].unsqueeze(1)\n",
    "    pred,_ = model(x)\n",
    "    loss = F.binary_cross_entropy_with_logits(pred, labels)\n",
    "\n",
    "    if i % 1000 == 0:\n",
    "        print(f\"epoch: {i}, loss: {loss.item():.4f}\")\n",
    "\n",
    "    optimizer.zero_grad()\n",
    "    loss.backward()\n",
    "    optimizer.step()\n",
    "    "
   ]
  },
  {
   "cell_type": "code",
   "execution_count": 40,
   "metadata": {},
   "outputs": [],
   "source": [
    "torch.save(model.state_dict(), \"saved_models/separating_spirals2d_tanh\")"
   ]
  },
  {
   "cell_type": "code",
   "execution_count": 113,
   "metadata": {},
   "outputs": [],
   "source": [
    "weights = [parameter for parameter in model.state_dict().values() if len(parameter.shape) != 1]\n",
    "biases = [parameter for parameter in model.state_dict().values() if len(parameter.shape) == 1]"
   ]
  },
  {
   "cell_type": "code",
   "execution_count": 114,
   "metadata": {},
   "outputs": [
    {
     "data": {
      "text/plain": [
       "[tensor([-0.0235,  1.2917]),\n",
       " tensor([-1.5779, -0.1957]),\n",
       " tensor([1.0228, 1.0179]),\n",
       " tensor([ 0.0248, -0.0104]),\n",
       " tensor([0.0002])]"
      ]
     },
     "execution_count": 114,
     "metadata": {},
     "output_type": "execute_result"
    }
   ],
   "source": [
    "biases"
   ]
  },
  {
   "cell_type": "code",
   "execution_count": 121,
   "metadata": {},
   "outputs": [],
   "source": [
    "def leaky_relu_inv(x, negative_slope=0.01):\n",
    "    return torch.minimum(1/negative_slope*x, x)"
   ]
  },
  {
   "cell_type": "code",
   "execution_count": 39,
   "metadata": {},
   "outputs": [
    {
     "data": {
      "application/vnd.jupyter.widget-view+json": {
       "model_id": "2c3bb6d2923d4e498313ac2b923623ef",
       "version_major": 2,
       "version_minor": 0
      },
      "image/png": "[encoded data removed]",
      "text/html": [
       "\n",
       "            <div style=\"display: inline-block;\">\n",
       "                <div class=\"jupyter-widgets widget-label\" style=\"text-align: center;\">\n",
       "                    Figure\n",
       "                </div>\n",
       "                <img src='data:image/png;base64,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' width=432.0/>\n",
       "            </div>\n",
       "        "
      ],
      "text/plain": [
       "Canvas(toolbar=Toolbar(toolitems=[('Home', 'Reset original view', 'home', 'home'), ('Back', 'Back to previous …"
      ]
     },
     "metadata": {},
     "output_type": "display_data"
    }
   ],
   "source": [
    "from matplotlib.widgets import Slider\n",
    "%matplotlib widget\n",
    "\n",
    "x, labels = data[:, 0:2], data[:, 2].detach().numpy()\n",
    "_, hidden_out = model(x)\n",
    "\n",
    "\n",
    "# # TRY TO GET THE REVERSE TRANSFORMATION TO WORK!\n",
    "# w = list(model.parameters())[-2].detach().squeeze(0)\n",
    "# b = list(model.parameters())[-1].detach().squeeze(0)\n",
    "# x = np.arange(-100, 100, 0.001)\n",
    "# y = -w[0]/w[1] * x - b / w[1]\n",
    "\n",
    "# line = np.concatenate((x.reshape(-1, 1), y.reshape(-1, 1)), axis=1)\n",
    "\n",
    "\n",
    "# bound = torch.tensor(line).float().detach()\n",
    "# bounds = [bound]\n",
    "\n",
    "# W = list(reversed(list(model.parameters())))[2:]\n",
    "# bound = leaky_relu_inv(bound)\n",
    "# bounds.append(bound)\n",
    "# bound -= W[0]\n",
    "# bound = bound @ torch.inverse(W[1])\n",
    "# bounds.append(bound)\n",
    "# bound = leaky_relu_inv(bound)\n",
    "# bounds.append(bound)\n",
    "# bound -= W[2]\n",
    "# bound = bound @ torch.inverse(W[3])\n",
    "# bounds.append(bound)\n",
    "# bound = leaky_relu_inv(bound)\n",
    "# bounds.append(bound)\n",
    "# bound -= W[4]\n",
    "# bound = bound @ torch.inverse(W[5])\n",
    "# bounds.append(bound)\n",
    "# # something goes wrong here?\n",
    "# bound = leaky_relu_inv(bound)\n",
    "# bounds.append(bound)\n",
    "# bound -= W[6]\n",
    "# bound = bound @ torch.inverse(W[7])\n",
    "# bounds.append(bound)\n",
    "# bounds = list(reversed(bounds))\n",
    "\n",
    "ax = plt.axes()\n",
    "\n",
    "ax_layer = plt.axes([0.25, 0.1, 0.65, 0.03])\n",
    "layer_slider = Slider(ax_layer, label=\"layer\", valmin=0, valmax=len(hidden_out) - 2, valstep=1)\n",
    "\n",
    "def update_graph(val):\n",
    "    ax.clear()\n",
    "    layer = hidden_out[layer_slider.val].detach().numpy()\n",
    "    # ax.plot(*bounds[layer_slider.val].detach().numpy().T)\n",
    "\n",
    "    for h_out, label in zip(layer, labels):\n",
    "        color = \"ro\" if label == 0 else \"bo\"\n",
    "        ax.plot(*h_out, color)\n",
    "\n",
    "    ax.set_ylim([-5, 5])\n",
    "    ax.set_xlim([-5,5])\n",
    "    \n",
    "update_graph(0)\n",
    "layer_slider.on_changed(update_graph)\n",
    "\n",
    "plt.show()"
   ]
  },
  {
   "cell_type": "code",
   "execution_count": null,
   "metadata": {},
   "outputs": [],
   "source": []
  }
 ],
 "metadata": {
  "kernelspec": {
   "display_name": "Python 3.9.12 ('manim')",
   "language": "python",
   "name": "python3"
  },
  "language_info": {
   "codemirror_mode": {
    "name": "ipython",
    "version": 3
   },
   "file_extension": ".py",
   "mimetype": "text/x-python",
   "name": "python",
   "nbconvert_exporter": "python",
   "pygments_lexer": "ipython3",
   "version": "3.9.12"
  },
  "orig_nbformat": 4,
  "vscode": {
   "interpreter": {
    "hash": "fb9120064336bb4a820ee72dc53f8791cc07ee69b01c2c7b4f2aa66167e36d8d"
   }
  }
 },
 "nbformat": 4,
 "nbformat_minor": 2
}
